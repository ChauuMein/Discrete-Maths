{
  "cells": [
    {
      "cell_type": "markdown",
      "metadata": {
        "id": "view-in-github",
        "colab_type": "text"
      },
      "source": [
        "<a href=\"https://colab.research.google.com/github/ChauuMein/Discrete-Maths/blob/main/week_1_class.ipynb\" target=\"_parent\"><img src=\"https://colab.research.google.com/assets/colab-badge.svg\" alt=\"Open In Colab\"/></a>"
      ]
    },
    {
      "cell_type": "markdown",
      "metadata": {
        "id": "NYzz1igXsKdw"
      },
      "source": [
        "# Week 1 class\n",
        "\n",
        "The aim of this class is to implement the Fibonacci algorithm using the following methods, and plot their timings (for $n=1$ to 100, except for the recursive algorithm where you should stop at $n=30$):\n",
        "\n",
        "* Recursive\n",
        "* Table\n",
        "* Keep last two values\n",
        "* Analytic (if you have time)\n",
        "* Matrix (if you have time)\n",
        "\n",
        "## Python\n",
        "\n",
        "You can use any language you like, but I'll use Python for all my code samples and during the class. I think Python is very simple syntactically so the code samples should be easy enough to follow even if you don't know Python. On the other hand, I would strongly encourage you to learn it as it's an incredibly useful language. Here is a nice tutorial on Python, NumPy (numerical library for efficient array computation) and Jupyter (the notebook interface I'm using here):\n",
        "\n",
        "* [Python Numpy Jupyter tutorial](https://cs231n.github.io/python-numpy-tutorial/)\n",
        "\n",
        "Here is a little sample of plotting timings for a function in Python."
      ]
    },
    {
      "cell_type": "code",
      "execution_count": null,
      "metadata": {
        "id": "MtX5-KkvsKdz",
        "outputId": "ba59c6f6-680f-4a99-d1c9-ed8d42fcfc48"
      },
      "outputs": [
        {
          "data": {
            "image/png": "[encoded data removed]",
            "text/plain": [
              "<Figure size 432x288 with 1 Axes>"
            ]
          },
          "metadata": {
            "needs_background": "light"
          },
          "output_type": "display_data"
        }
      ],
      "source": [
        "# this first line is just used to make the plots appear nicely in the notebook\n",
        "%matplotlib inline\n",
        "import matplotlib.pyplot as plt\n",
        "import numpy as np\n",
        "import time\n",
        "\n",
        "def fake_function(n):\n",
        "    time.sleep(0.001*n*n)\n",
        "\n",
        "def timeit(n):\n",
        "    start = time.time()\n",
        "    fake_function(n)\n",
        "    end = time.time()\n",
        "    return end-start\n",
        "\n",
        "N = [0, 10, 20, 30, 40, 50]\n",
        "T = [timeit(n) for n in N]\n",
        "plt.plot(N, T)\n",
        "plt.xlabel('n')\n",
        "plt.ylabel('Time (s)');"
      ]
    },
    {
      "cell_type": "markdown",
      "metadata": {
        "id": "eBVmJqjxsKd2"
      },
      "source": [
        "## Implementation notes on compiled languages\n",
        "\n",
        "For the other ones, if you're using a compiled language, they might run so fast that in order to time them you should slow down the addition by adding a 1 microsecond wait. I've included a C++ ``busy_sleep`` function below to do that.\n",
        "\n",
        "```c++\n",
        "#include <chrono>\n",
        "#include <iostream>\n",
        "#include <fstream>\n",
        "\n",
        "using namespace std;\n",
        "\n",
        "// this function busy sleeps for n microseconds\n",
        "void busy_sleep(int n)\n",
        "{\n",
        "    auto start = chrono::steady_clock::now();\n",
        "    while(chrono::duration_cast<chrono::microseconds>(chrono::steady_clock::now() - start).count()<n) {};\n",
        "}\n",
        "```"
      ]
    },
    {
      "cell_type": "markdown",
      "source": [
        "# Recursive\n"
      ],
      "metadata": {
        "id": "JlJ8qaunsQeC"
      }
    },
    {
      "cell_type": "code",
      "source": [
        "%matplotlib inline\n",
        "import matplotlib.pyplot as plt\n",
        "import numpy as np\n",
        "import time\n",
        "\n",
        "def fib_rec(n):\n",
        "\n",
        "  if n<=1:\n",
        "    return n\n",
        "\n",
        "  return fib_rec(n-1)+fib_rec(n-2)\n",
        "  time.sleep(1)\n",
        "\n",
        "n = 10\n",
        "result = n\n",
        "print(fib_rec(n))\n",
        "\n",
        "def timeit(n):\n",
        "    start = time.time()\n",
        "    fib_rec(n)\n",
        "    end = time.time()\n",
        "    return end-start\n",
        "\n",
        "N = [0, 10, 20, 30]\n",
        "T = [timeit(n) for n in N]\n",
        "plt.plot(N, T)\n",
        "plt.xlabel('n')\n",
        "plt.ylabel('Time (s)');\n",
        "\n",
        "\n",
        "\n",
        ""
      ],
      "metadata": {
        "colab": {
          "base_uri": "https://localhost:8080/",
          "height": 467
        },
        "id": "jZwcrZoYsVrw",
        "outputId": "7720a763-9e98-459e-b1d1-1c529347ff6a"
      },
      "execution_count": 9,
      "outputs": [
        {
          "output_type": "stream",
          "name": "stdout",
          "text": [
            "55\n"
          ]
        },
        {
          "output_type": "display_data",
          "data": {
            "text/plain": [
              "<Figure size 640x480 with 1 Axes>"
            ],
            "image/png": "[encoded data removed]"
          },
          "metadata": {}
        }
      ]
    }
  ],
  "metadata": {
    "colab": {
      "name": "Discrete-maths-timing-template.ipynb",
      "provenance": [],
      "toc_visible": true,
      "include_colab_link": true
    },
    "kernelspec": {
      "display_name": "Python 3",
      "language": "python",
      "name": "python3"
    },
    "language_info": {
      "codemirror_mode": {
        "name": "ipython",
        "version": 3
      },
      "file_extension": ".py",
      "mimetype": "text/x-python",
      "name": "python",
      "nbconvert_exporter": "python",
      "pygments_lexer": "ipython3",
      "version": "3.9.2"
    }
  },
  "nbformat": 4,
  "nbformat_minor": 0
}